{
  "cells": [
    {
      "cell_type": "code",
      "execution_count": null,
      "id": "a747656f",
      "metadata": {
        "id": "a747656f"
      },
      "outputs": [],
      "source": [
        "from numpy.random import uniform, normal, randint, rand\n",
        "import numpy as np\n",
        "import pandas as pd\n",
        "import matplotlib.pyplot as plt\n",
        "\n",
        "def generate_dataset(seed):\n",
        "    np.random.seed(seed)\n",
        "    \n",
        "    x = np.array([])\n",
        "    y = np.array([])\n",
        "    loop = randint(10,15)\n",
        "\n",
        "    for i in range(loop):\n",
        "        x = np.append(x, np.random.normal(randint(10), rand(), 20))\n",
        "        y = np.append(y, np.random.normal(randint(10), rand(), 20))\n",
        "        \n",
        "    df = pd.DataFrame(data = {'x': x, 'y':y})\n",
        "    df.to_csv('dataset.csv', index=False)"
      ]
    },
    {
      "cell_type": "code",
      "execution_count": null,
      "id": "0f98f632",
      "metadata": {
        "id": "0f98f632"
      },
      "outputs": [],
      "source": [
        "student_id = 2440072692\n",
        "\n",
        "generate_dataset(student_id)"
      ]
    },
    {
      "cell_type": "code",
      "execution_count": null,
      "id": "c1009c6f",
      "metadata": {
        "colab": {
          "base_uri": "https://localhost:8080/",
          "height": 206
        },
        "id": "c1009c6f",
        "outputId": "2e6087a8-bca6-48fe-e2b1-6236ddaf1a06"
      },
      "outputs": [
        {
          "output_type": "execute_result",
          "data": {
            "text/plain": [
              "          x         y\n",
              "0  1.616213 -0.255794\n",
              "1  2.147257  0.293791\n",
              "2  2.084387  0.080653\n",
              "3  1.976454 -0.543148\n",
              "4  2.150931 -0.073700"
            ],
            "text/html": [
              "\n",
              "  <div id=\"df-14c46c5f-b917-4058-b0f0-b4436dc18087\">\n",
              "    <div class=\"colab-df-container\">\n",
              "      <div>\n",
              "<style scoped>\n",
              "    .dataframe tbody tr th:only-of-type {\n",
              "        vertical-align: middle;\n",
              "    }\n",
              "\n",
              "    .dataframe tbody tr th {\n",
              "        vertical-align: top;\n",
              "    }\n",
              "\n",
              "    .dataframe thead th {\n",
              "        text-align: right;\n",
              "    }\n",
              "</style>\n",
              "<table border=\"1\" class=\"dataframe\">\n",
              "  <thead>\n",
              "    <tr style=\"text-align: right;\">\n",
              "      <th></th>\n",
              "      <th>x</th>\n",
              "      <th>y</th>\n",
              "    </tr>\n",
              "  </thead>\n",
              "  <tbody>\n",
              "    <tr>\n",
              "      <th>0</th>\n",
              "      <td>1.616213</td>\n",
              "      <td>-0.255794</td>\n",
              "    </tr>\n",
              "    <tr>\n",
              "      <th>1</th>\n",
              "      <td>2.147257</td>\n",
              "      <td>0.293791</td>\n",
              "    </tr>\n",
              "    <tr>\n",
              "      <th>2</th>\n",
              "      <td>2.084387</td>\n",
              "      <td>0.080653</td>\n",
              "    </tr>\n",
              "    <tr>\n",
              "      <th>3</th>\n",
              "      <td>1.976454</td>\n",
              "      <td>-0.543148</td>\n",
              "    </tr>\n",
              "    <tr>\n",
              "      <th>4</th>\n",
              "      <td>2.150931</td>\n",
              "      <td>-0.073700</td>\n",
              "    </tr>\n",
              "  </tbody>\n",
              "</table>\n",
              "</div>\n",
              "      <button class=\"colab-df-convert\" onclick=\"convertToInteractive('df-14c46c5f-b917-4058-b0f0-b4436dc18087')\"\n",
              "              title=\"Convert this dataframe to an interactive table.\"\n",
              "              style=\"display:none;\">\n",
              "        \n",
              "  <svg xmlns=\"http://www.w3.org/2000/svg\" height=\"24px\"viewBox=\"0 0 24 24\"\n",
              "       width=\"24px\">\n",
              "    <path d=\"M0 0h24v24H0V0z\" fill=\"none\"/>\n",
              "    <path d=\"M18.56 5.44l.94 2.06.94-2.06 2.06-.94-2.06-.94-.94-2.06-.94 2.06-2.06.94zm-11 1L8.5 8.5l.94-2.06 2.06-.94-2.06-.94L8.5 2.5l-.94 2.06-2.06.94zm10 10l.94 2.06.94-2.06 2.06-.94-2.06-.94-.94-2.06-.94 2.06-2.06.94z\"/><path d=\"M17.41 7.96l-1.37-1.37c-.4-.4-.92-.59-1.43-.59-.52 0-1.04.2-1.43.59L10.3 9.45l-7.72 7.72c-.78.78-.78 2.05 0 2.83L4 21.41c.39.39.9.59 1.41.59.51 0 1.02-.2 1.41-.59l7.78-7.78 2.81-2.81c.8-.78.8-2.07 0-2.86zM5.41 20L4 18.59l7.72-7.72 1.47 1.35L5.41 20z\"/>\n",
              "  </svg>\n",
              "      </button>\n",
              "      \n",
              "  <style>\n",
              "    .colab-df-container {\n",
              "      display:flex;\n",
              "      flex-wrap:wrap;\n",
              "      gap: 12px;\n",
              "    }\n",
              "\n",
              "    .colab-df-convert {\n",
              "      background-color: #E8F0FE;\n",
              "      border: none;\n",
              "      border-radius: 50%;\n",
              "      cursor: pointer;\n",
              "      display: none;\n",
              "      fill: #1967D2;\n",
              "      height: 32px;\n",
              "      padding: 0 0 0 0;\n",
              "      width: 32px;\n",
              "    }\n",
              "\n",
              "    .colab-df-convert:hover {\n",
              "      background-color: #E2EBFA;\n",
              "      box-shadow: 0px 1px 2px rgba(60, 64, 67, 0.3), 0px 1px 3px 1px rgba(60, 64, 67, 0.15);\n",
              "      fill: #174EA6;\n",
              "    }\n",
              "\n",
              "    [theme=dark] .colab-df-convert {\n",
              "      background-color: #3B4455;\n",
              "      fill: #D2E3FC;\n",
              "    }\n",
              "\n",
              "    [theme=dark] .colab-df-convert:hover {\n",
              "      background-color: #434B5C;\n",
              "      box-shadow: 0px 1px 3px 1px rgba(0, 0, 0, 0.15);\n",
              "      filter: drop-shadow(0px 1px 2px rgba(0, 0, 0, 0.3));\n",
              "      fill: #FFFFFF;\n",
              "    }\n",
              "  </style>\n",
              "\n",
              "      <script>\n",
              "        const buttonEl =\n",
              "          document.querySelector('#df-14c46c5f-b917-4058-b0f0-b4436dc18087 button.colab-df-convert');\n",
              "        buttonEl.style.display =\n",
              "          google.colab.kernel.accessAllowed ? 'block' : 'none';\n",
              "\n",
              "        async function convertToInteractive(key) {\n",
              "          const element = document.querySelector('#df-14c46c5f-b917-4058-b0f0-b4436dc18087');\n",
              "          const dataTable =\n",
              "            await google.colab.kernel.invokeFunction('convertToInteractive',\n",
              "                                                     [key], {});\n",
              "          if (!dataTable) return;\n",
              "\n",
              "          const docLinkHtml = 'Like what you see? Visit the ' +\n",
              "            '<a target=\"_blank\" href=https://colab.research.google.com/notebooks/data_table.ipynb>data table notebook</a>'\n",
              "            + ' to learn more about interactive tables.';\n",
              "          element.innerHTML = '';\n",
              "          dataTable['output_type'] = 'display_data';\n",
              "          await google.colab.output.renderOutput(dataTable, element);\n",
              "          const docLink = document.createElement('div');\n",
              "          docLink.innerHTML = docLinkHtml;\n",
              "          element.appendChild(docLink);\n",
              "        }\n",
              "      </script>\n",
              "    </div>\n",
              "  </div>\n",
              "  "
            ]
          },
          "metadata": {},
          "execution_count": 4
        }
      ],
      "source": [
        "dataset = pd.read_csv('dataset.csv')\n",
        "dataset.head()"
      ]
    },
    {
      "cell_type": "code",
      "source": [
        "dataset['x'].value_counts()\n",
        "dataset['y'].value_counts()"
      ],
      "metadata": {
        "colab": {
          "base_uri": "https://localhost:8080/"
        },
        "id": "JwgagCVXGQJw",
        "outputId": "ac5ff035-3928-4244-bd12-cdee1af5e7bd"
      },
      "id": "JwgagCVXGQJw",
      "execution_count": null,
      "outputs": [
        {
          "output_type": "execute_result",
          "data": {
            "text/plain": [
              "-0.255794    1\n",
              " 0.293791    1\n",
              " 5.046767    1\n",
              " 4.844767    1\n",
              " 4.887544    1\n",
              "            ..\n",
              " 6.847939    1\n",
              " 8.306997    1\n",
              " 6.995844    1\n",
              " 7.302018    1\n",
              " 8.134515    1\n",
              "Name: y, Length: 240, dtype: int64"
            ]
          },
          "metadata": {},
          "execution_count": 5
        }
      ]
    },
    {
      "cell_type": "code",
      "source": [
        "x = dataset.iloc[:200:2].values\n",
        "x[:200]"
      ],
      "metadata": {
        "colab": {
          "base_uri": "https://localhost:8080/"
        },
        "id": "ZdkeAuIBGjlf",
        "outputId": "1f255a4c-a9b4-460c-f227-c2ee25188a55"
      },
      "id": "ZdkeAuIBGjlf",
      "execution_count": null,
      "outputs": [
        {
          "output_type": "execute_result",
          "data": {
            "text/plain": [
              "array([[ 1.61621313e+00, -2.55794086e-01],\n",
              "       [ 2.08438651e+00,  8.06532254e-02],\n",
              "       [ 2.15093080e+00, -7.37000947e-02],\n",
              "       [ 1.86250704e+00,  4.89185597e-01],\n",
              "       [ 2.05657708e+00,  4.55034939e-01],\n",
              "       [ 1.93650326e+00,  1.18877083e-01],\n",
              "       [ 1.45819802e+00,  8.34917477e-02],\n",
              "       [ 1.41493777e+00,  9.35070934e-01],\n",
              "       [ 1.64713065e+00, -7.57078643e-02],\n",
              "       [ 2.19695513e+00,  9.55194945e-02],\n",
              "       [ 1.89130023e+00,  1.97796811e+00],\n",
              "       [ 4.99490050e+00,  1.44426310e+00],\n",
              "       [ 4.07882646e+00,  1.43485219e+00],\n",
              "       [ 2.49830043e+00,  1.75570830e+00],\n",
              "       [ 3.50130459e+00,  1.57608140e+00],\n",
              "       [ 3.04773582e+00,  1.33343598e+00],\n",
              "       [ 3.77753545e+00,  2.47086979e+00],\n",
              "       [ 2.16371162e+00,  1.77808780e+00],\n",
              "       [ 2.93613541e+00,  1.63487532e+00],\n",
              "       [ 2.97995236e+00,  2.38331111e+00],\n",
              "       [ 7.91129888e-01, -2.73834233e-01],\n",
              "       [ 1.20960786e+00,  5.98427121e-01],\n",
              "       [ 1.54088565e+00,  8.82950896e-03],\n",
              "       [ 6.19628773e-01, -5.85386659e-01],\n",
              "       [ 4.37081080e-01, -2.43351544e-01],\n",
              "       [ 8.97248721e-01,  5.30923800e-01],\n",
              "       [ 9.33812864e-01, -2.41617569e-01],\n",
              "       [ 2.15183095e-01, -2.07608085e-01],\n",
              "       [ 1.17664752e+00, -2.42481934e-01],\n",
              "       [-1.90300557e-02,  2.94455029e-01],\n",
              "       [ 6.26186011e-01,  2.29526144e+00],\n",
              "       [ 7.03716350e-01,  2.09516334e+00],\n",
              "       [ 9.35137229e-01,  2.12553461e+00],\n",
              "       [ 9.37124222e-01,  1.91327630e+00],\n",
              "       [ 9.11647596e-01,  2.13210380e+00],\n",
              "       [ 9.99366962e-01,  1.90980654e+00],\n",
              "       [ 1.21479493e+00,  2.35501679e+00],\n",
              "       [ 9.91096760e-01,  1.95299345e+00],\n",
              "       [ 9.73956173e-01,  2.09099236e+00],\n",
              "       [ 8.35380303e-01,  1.96611541e+00],\n",
              "       [ 7.64800422e+00,  6.73772474e+00],\n",
              "       [ 7.62708939e+00,  7.77124815e+00],\n",
              "       [ 8.21125593e+00,  6.84793907e+00],\n",
              "       [ 8.08106939e+00,  6.99584438e+00],\n",
              "       [ 8.41942607e+00,  5.97694850e+00],\n",
              "       [ 8.25089419e+00,  6.56439644e+00],\n",
              "       [ 8.19705491e+00,  7.11952271e+00],\n",
              "       [ 7.70058871e+00,  7.69644100e+00],\n",
              "       [ 8.87500863e+00,  5.01256009e+00],\n",
              "       [ 8.49769143e+00,  7.06816481e+00],\n",
              "       [-5.52035240e-01,  5.37521739e+00],\n",
              "       [-1.76158924e-03,  4.72991976e+00],\n",
              "       [ 8.13896047e-01,  5.45563320e+00],\n",
              "       [ 1.56653985e-01,  5.17117989e+00],\n",
              "       [ 6.17869473e-02,  5.38520455e+00],\n",
              "       [ 6.08079704e-02,  4.75530681e+00],\n",
              "       [ 3.63313908e-01,  4.46756011e+00],\n",
              "       [-5.14623992e-01,  3.45199271e+00],\n",
              "       [-6.38277488e-01,  5.40904962e+00],\n",
              "       [ 8.41972991e-02,  5.05356680e+00],\n",
              "       [ 4.84540653e+00,  8.65520614e+00],\n",
              "       [ 5.65775869e+00,  9.34874226e+00],\n",
              "       [ 5.01090885e+00,  8.60421592e+00],\n",
              "       [ 4.50477999e+00,  8.87358250e+00],\n",
              "       [ 5.22452081e+00,  8.64269606e+00],\n",
              "       [ 5.01286304e+00,  8.54357794e+00],\n",
              "       [ 4.93946211e+00,  8.53859537e+00],\n",
              "       [ 4.95099089e+00,  8.93727125e+00],\n",
              "       [ 5.51686863e+00,  9.05533525e+00],\n",
              "       [ 5.14201526e+00,  9.42698916e+00],\n",
              "       [ 6.17578429e+00,  5.19480256e+00],\n",
              "       [ 7.09748561e+00,  5.02908837e+00],\n",
              "       [ 4.81905322e+00,  5.02082260e+00],\n",
              "       [ 5.60832263e+00,  4.87013204e+00],\n",
              "       [ 5.01036115e+00,  5.37997609e+00],\n",
              "       [ 5.81047155e+00,  5.11852911e+00],\n",
              "       [ 6.42474432e+00,  5.04676655e+00],\n",
              "       [ 6.34730017e+00,  4.88754408e+00],\n",
              "       [ 6.70433859e+00,  5.16580900e+00],\n",
              "       [ 6.34456765e+00,  5.34298553e+00],\n",
              "       [ 9.25333531e+00,  8.28124978e+00],\n",
              "       [ 1.00630068e+01,  7.03251246e+00],\n",
              "       [ 8.79346310e+00,  7.44527359e+00],\n",
              "       [ 9.92609083e+00,  6.56204117e+00],\n",
              "       [ 9.62613547e+00,  6.89292911e+00],\n",
              "       [ 8.25282713e+00,  7.05091634e+00],\n",
              "       [ 9.25125065e+00,  7.09191264e+00],\n",
              "       [ 9.06588242e+00,  6.33867692e+00],\n",
              "       [ 9.35836863e+00,  8.30656610e+00],\n",
              "       [ 1.01409992e+01,  6.80331618e+00],\n",
              "       [ 7.31293207e+00,  4.40123012e+00],\n",
              "       [ 6.22791149e+00,  4.13978469e+00],\n",
              "       [ 6.67233502e+00,  3.83539030e+00],\n",
              "       [ 6.42476759e+00,  4.36529987e+00],\n",
              "       [ 6.62397794e+00,  4.26672096e+00],\n",
              "       [ 7.10160992e+00,  4.04541299e+00],\n",
              "       [ 6.74481851e+00,  3.99486918e+00],\n",
              "       [ 6.79764255e+00,  3.80773560e+00],\n",
              "       [ 6.43885276e+00,  3.84249734e+00],\n",
              "       [ 7.76699124e+00,  3.96124954e+00]])"
            ]
          },
          "metadata": {},
          "execution_count": 6
        }
      ]
    },
    {
      "cell_type": "code",
      "source": [
        "from sklearn.cluster import KMeans\n",
        "wcss = [ ]\n",
        "\n",
        "for i in range(1, 11):\n",
        "  kmeans = KMeans(n_clusters = i, init = 'k-means++', random_state =70)\n",
        "  kmeans.fit(x)\n",
        "  wcss.append(kmeans.inertia_)\n",
        "plt.plot(range(1, 11), wcss)\n",
        "plt.title('elbow method')\n",
        "plt.xlabel('cluster number')\n",
        "plt.ylabel('wcss')\n",
        "plt.show()"
      ],
      "metadata": {
        "id": "05UBnN2vG5b_"
      },
      "id": "05UBnN2vG5b_",
      "execution_count": null,
      "outputs": []
    },
    {
      "cell_type": "code",
      "source": [
        "kmeans = KMeans (n_clusters = 3, random_state = 70)\n",
        "kmeans.fit_predict(dataset)"
      ],
      "metadata": {
        "colab": {
          "base_uri": "https://localhost:8080/"
        },
        "id": "4UHv492WJuOD",
        "outputId": "9d66f43f-da06-41fd-8892-300e436f6f0c"
      },
      "id": "4UHv492WJuOD",
      "execution_count": null,
      "outputs": [
        {
          "output_type": "execute_result",
          "data": {
            "text/plain": [
              "array([0, 0, 0, 0, 0, 0, 0, 0, 0, 0, 0, 0, 0, 0, 0, 0, 0, 0, 0, 0, 0, 0,\n",
              "       0, 0, 0, 0, 0, 0, 0, 0, 0, 0, 0, 0, 0, 0, 0, 0, 0, 0, 0, 0, 0, 0,\n",
              "       0, 0, 0, 0, 0, 0, 0, 0, 0, 0, 0, 0, 0, 0, 0, 0, 0, 0, 0, 0, 0, 0,\n",
              "       0, 0, 0, 0, 0, 0, 0, 0, 0, 0, 0, 0, 0, 0, 1, 1, 1, 1, 1, 1, 1, 1,\n",
              "       1, 1, 1, 1, 1, 1, 1, 1, 1, 1, 1, 1, 2, 2, 2, 2, 2, 2, 2, 2, 2, 2,\n",
              "       2, 2, 2, 2, 0, 2, 2, 2, 2, 2, 1, 1, 1, 1, 1, 1, 1, 1, 1, 1, 1, 1,\n",
              "       1, 1, 1, 1, 1, 1, 1, 1, 1, 1, 1, 1, 1, 1, 1, 1, 1, 1, 1, 1, 1, 1,\n",
              "       1, 1, 1, 1, 1, 1, 1, 1, 1, 1, 1, 1, 1, 1, 1, 1, 1, 1, 1, 1, 1, 1,\n",
              "       1, 1, 1, 1, 1, 1, 1, 1, 1, 1, 1, 1, 1, 1, 1, 1, 1, 1, 1, 1, 1, 1,\n",
              "       1, 1, 1, 1, 1, 1, 1, 1, 1, 1, 1, 1, 1, 1, 1, 1, 1, 1, 1, 1, 1, 1,\n",
              "       2, 2, 2, 2, 2, 2, 2, 2, 2, 2, 2, 2, 2, 2, 2, 2, 2, 2, 2, 2],\n",
              "      dtype=int32)"
            ]
          },
          "metadata": {},
          "execution_count": 8
        }
      ]
    },
    {
      "cell_type": "code",
      "source": [
        "kmeans.labels_"
      ],
      "metadata": {
        "colab": {
          "base_uri": "https://localhost:8080/"
        },
        "id": "wodsYYKvKAfX",
        "outputId": "98bfbe3a-14ed-4a87-b21a-d4e14d5b3857"
      },
      "id": "wodsYYKvKAfX",
      "execution_count": null,
      "outputs": [
        {
          "output_type": "execute_result",
          "data": {
            "text/plain": [
              "array([0, 0, 0, 0, 0, 0, 0, 0, 0, 0, 0, 0, 0, 0, 0, 0, 0, 0, 0, 0, 0, 0,\n",
              "       0, 0, 0, 0, 0, 0, 0, 0, 0, 0, 0, 0, 0, 0, 0, 0, 0, 0, 0, 0, 0, 0,\n",
              "       0, 0, 0, 0, 0, 0, 0, 0, 0, 0, 0, 0, 0, 0, 0, 0, 0, 0, 0, 0, 0, 0,\n",
              "       0, 0, 0, 0, 0, 0, 0, 0, 0, 0, 0, 0, 0, 0, 1, 1, 1, 1, 1, 1, 1, 1,\n",
              "       1, 1, 1, 1, 1, 1, 1, 1, 1, 1, 1, 1, 2, 2, 2, 2, 2, 2, 2, 2, 2, 2,\n",
              "       2, 2, 2, 2, 0, 2, 2, 2, 2, 2, 1, 1, 1, 1, 1, 1, 1, 1, 1, 1, 1, 1,\n",
              "       1, 1, 1, 1, 1, 1, 1, 1, 1, 1, 1, 1, 1, 1, 1, 1, 1, 1, 1, 1, 1, 1,\n",
              "       1, 1, 1, 1, 1, 1, 1, 1, 1, 1, 1, 1, 1, 1, 1, 1, 1, 1, 1, 1, 1, 1,\n",
              "       1, 1, 1, 1, 1, 1, 1, 1, 1, 1, 1, 1, 1, 1, 1, 1, 1, 1, 1, 1, 1, 1,\n",
              "       1, 1, 1, 1, 1, 1, 1, 1, 1, 1, 1, 1, 1, 1, 1, 1, 1, 1, 1, 1, 1, 1,\n",
              "       2, 2, 2, 2, 2, 2, 2, 2, 2, 2, 2, 2, 2, 2, 2, 2, 2, 2, 2, 2],\n",
              "      dtype=int32)"
            ]
          },
          "metadata": {},
          "execution_count": 9
        }
      ]
    },
    {
      "cell_type": "code",
      "source": [
        "datacluster = dataset.copy()\n",
        "datacluster['cluster'] = kmeans.labels_"
      ],
      "metadata": {
        "id": "7MVmRRUhKIBd"
      },
      "id": "7MVmRRUhKIBd",
      "execution_count": null,
      "outputs": []
    },
    {
      "cell_type": "code",
      "source": [
        "x1 = dataset['x']\n",
        "y1 = dataset['y']\n",
        "label = kmeans.labels_\n",
        "\n",
        "plt.show()\n",
        "datacluster\n"
      ],
      "metadata": {
        "colab": {
          "base_uri": "https://localhost:8080/",
          "height": 424
        },
        "id": "Z4W9gl2SKYod",
        "outputId": "a933f76a-83ca-4eb2-8db4-8d6bdba12d3d"
      },
      "id": "Z4W9gl2SKYod",
      "execution_count": null,
      "outputs": [
        {
          "output_type": "execute_result",
          "data": {
            "text/plain": [
              "            x         y  cluster\n",
              "0    1.616213 -0.255794        0\n",
              "1    2.147257  0.293791        0\n",
              "2    2.084387  0.080653        0\n",
              "3    1.976454 -0.543148        0\n",
              "4    2.150931 -0.073700        0\n",
              "..        ...       ...      ...\n",
              "235 -0.927292  9.359589        2\n",
              "236 -0.318649  8.738571        2\n",
              "237  0.705312  8.936645        2\n",
              "238 -0.301145  9.310111        2\n",
              "239 -0.646135  8.134515        2\n",
              "\n",
              "[240 rows x 3 columns]"
            ],
            "text/html": [
              "\n",
              "  <div id=\"df-9412751c-de13-433f-9b5f-e685f51f60f3\">\n",
              "    <div class=\"colab-df-container\">\n",
              "      <div>\n",
              "<style scoped>\n",
              "    .dataframe tbody tr th:only-of-type {\n",
              "        vertical-align: middle;\n",
              "    }\n",
              "\n",
              "    .dataframe tbody tr th {\n",
              "        vertical-align: top;\n",
              "    }\n",
              "\n",
              "    .dataframe thead th {\n",
              "        text-align: right;\n",
              "    }\n",
              "</style>\n",
              "<table border=\"1\" class=\"dataframe\">\n",
              "  <thead>\n",
              "    <tr style=\"text-align: right;\">\n",
              "      <th></th>\n",
              "      <th>x</th>\n",
              "      <th>y</th>\n",
              "      <th>cluster</th>\n",
              "    </tr>\n",
              "  </thead>\n",
              "  <tbody>\n",
              "    <tr>\n",
              "      <th>0</th>\n",
              "      <td>1.616213</td>\n",
              "      <td>-0.255794</td>\n",
              "      <td>0</td>\n",
              "    </tr>\n",
              "    <tr>\n",
              "      <th>1</th>\n",
              "      <td>2.147257</td>\n",
              "      <td>0.293791</td>\n",
              "      <td>0</td>\n",
              "    </tr>\n",
              "    <tr>\n",
              "      <th>2</th>\n",
              "      <td>2.084387</td>\n",
              "      <td>0.080653</td>\n",
              "      <td>0</td>\n",
              "    </tr>\n",
              "    <tr>\n",
              "      <th>3</th>\n",
              "      <td>1.976454</td>\n",
              "      <td>-0.543148</td>\n",
              "      <td>0</td>\n",
              "    </tr>\n",
              "    <tr>\n",
              "      <th>4</th>\n",
              "      <td>2.150931</td>\n",
              "      <td>-0.073700</td>\n",
              "      <td>0</td>\n",
              "    </tr>\n",
              "    <tr>\n",
              "      <th>...</th>\n",
              "      <td>...</td>\n",
              "      <td>...</td>\n",
              "      <td>...</td>\n",
              "    </tr>\n",
              "    <tr>\n",
              "      <th>235</th>\n",
              "      <td>-0.927292</td>\n",
              "      <td>9.359589</td>\n",
              "      <td>2</td>\n",
              "    </tr>\n",
              "    <tr>\n",
              "      <th>236</th>\n",
              "      <td>-0.318649</td>\n",
              "      <td>8.738571</td>\n",
              "      <td>2</td>\n",
              "    </tr>\n",
              "    <tr>\n",
              "      <th>237</th>\n",
              "      <td>0.705312</td>\n",
              "      <td>8.936645</td>\n",
              "      <td>2</td>\n",
              "    </tr>\n",
              "    <tr>\n",
              "      <th>238</th>\n",
              "      <td>-0.301145</td>\n",
              "      <td>9.310111</td>\n",
              "      <td>2</td>\n",
              "    </tr>\n",
              "    <tr>\n",
              "      <th>239</th>\n",
              "      <td>-0.646135</td>\n",
              "      <td>8.134515</td>\n",
              "      <td>2</td>\n",
              "    </tr>\n",
              "  </tbody>\n",
              "</table>\n",
              "<p>240 rows × 3 columns</p>\n",
              "</div>\n",
              "      <button class=\"colab-df-convert\" onclick=\"convertToInteractive('df-9412751c-de13-433f-9b5f-e685f51f60f3')\"\n",
              "              title=\"Convert this dataframe to an interactive table.\"\n",
              "              style=\"display:none;\">\n",
              "        \n",
              "  <svg xmlns=\"http://www.w3.org/2000/svg\" height=\"24px\"viewBox=\"0 0 24 24\"\n",
              "       width=\"24px\">\n",
              "    <path d=\"M0 0h24v24H0V0z\" fill=\"none\"/>\n",
              "    <path d=\"M18.56 5.44l.94 2.06.94-2.06 2.06-.94-2.06-.94-.94-2.06-.94 2.06-2.06.94zm-11 1L8.5 8.5l.94-2.06 2.06-.94-2.06-.94L8.5 2.5l-.94 2.06-2.06.94zm10 10l.94 2.06.94-2.06 2.06-.94-2.06-.94-.94-2.06-.94 2.06-2.06.94z\"/><path d=\"M17.41 7.96l-1.37-1.37c-.4-.4-.92-.59-1.43-.59-.52 0-1.04.2-1.43.59L10.3 9.45l-7.72 7.72c-.78.78-.78 2.05 0 2.83L4 21.41c.39.39.9.59 1.41.59.51 0 1.02-.2 1.41-.59l7.78-7.78 2.81-2.81c.8-.78.8-2.07 0-2.86zM5.41 20L4 18.59l7.72-7.72 1.47 1.35L5.41 20z\"/>\n",
              "  </svg>\n",
              "      </button>\n",
              "      \n",
              "  <style>\n",
              "    .colab-df-container {\n",
              "      display:flex;\n",
              "      flex-wrap:wrap;\n",
              "      gap: 12px;\n",
              "    }\n",
              "\n",
              "    .colab-df-convert {\n",
              "      background-color: #E8F0FE;\n",
              "      border: none;\n",
              "      border-radius: 50%;\n",
              "      cursor: pointer;\n",
              "      display: none;\n",
              "      fill: #1967D2;\n",
              "      height: 32px;\n",
              "      padding: 0 0 0 0;\n",
              "      width: 32px;\n",
              "    }\n",
              "\n",
              "    .colab-df-convert:hover {\n",
              "      background-color: #E2EBFA;\n",
              "      box-shadow: 0px 1px 2px rgba(60, 64, 67, 0.3), 0px 1px 3px 1px rgba(60, 64, 67, 0.15);\n",
              "      fill: #174EA6;\n",
              "    }\n",
              "\n",
              "    [theme=dark] .colab-df-convert {\n",
              "      background-color: #3B4455;\n",
              "      fill: #D2E3FC;\n",
              "    }\n",
              "\n",
              "    [theme=dark] .colab-df-convert:hover {\n",
              "      background-color: #434B5C;\n",
              "      box-shadow: 0px 1px 3px 1px rgba(0, 0, 0, 0.15);\n",
              "      filter: drop-shadow(0px 1px 2px rgba(0, 0, 0, 0.3));\n",
              "      fill: #FFFFFF;\n",
              "    }\n",
              "  </style>\n",
              "\n",
              "      <script>\n",
              "        const buttonEl =\n",
              "          document.querySelector('#df-9412751c-de13-433f-9b5f-e685f51f60f3 button.colab-df-convert');\n",
              "        buttonEl.style.display =\n",
              "          google.colab.kernel.accessAllowed ? 'block' : 'none';\n",
              "\n",
              "        async function convertToInteractive(key) {\n",
              "          const element = document.querySelector('#df-9412751c-de13-433f-9b5f-e685f51f60f3');\n",
              "          const dataTable =\n",
              "            await google.colab.kernel.invokeFunction('convertToInteractive',\n",
              "                                                     [key], {});\n",
              "          if (!dataTable) return;\n",
              "\n",
              "          const docLinkHtml = 'Like what you see? Visit the ' +\n",
              "            '<a target=\"_blank\" href=https://colab.research.google.com/notebooks/data_table.ipynb>data table notebook</a>'\n",
              "            + ' to learn more about interactive tables.';\n",
              "          element.innerHTML = '';\n",
              "          dataTable['output_type'] = 'display_data';\n",
              "          await google.colab.output.renderOutput(dataTable, element);\n",
              "          const docLink = document.createElement('div');\n",
              "          docLink.innerHTML = docLinkHtml;\n",
              "          element.appendChild(docLink);\n",
              "        }\n",
              "      </script>\n",
              "    </div>\n",
              "  </div>\n",
              "  "
            ]
          },
          "metadata": {},
          "execution_count": 11
        }
      ]
    },
    {
      "cell_type": "code",
      "source": [
        "plt.scatter(x1, y1, c = label, cmap = 'plasma')"
      ],
      "metadata": {
        "colab": {
          "base_uri": "https://localhost:8080/",
          "height": 282
        },
        "id": "U0f3RpCbLDn2",
        "outputId": "351ca827-4d35-48a0-c65f-b1e45be928a5"
      },
      "id": "U0f3RpCbLDn2",
      "execution_count": null,
      "outputs": [
        {
          "output_type": "execute_result",
          "data": {
            "text/plain": [
              "<matplotlib.collections.PathCollection at 0x7f50cf7084f0>"
            ]
          },
          "metadata": {},
          "execution_count": 12
        },
        {
          "output_type": "display_data",
          "data": {
            "text/plain": [
              "<Figure size 432x288 with 1 Axes>"
            ],
            "image/png": "[encoded data removed]"
          },
          "metadata": {
            "needs_background": "light"
          }
        }
      ]
    }
  ],
  "metadata": {
    "kernelspec": {
      "display_name": "Python 3 (ipykernel)",
      "language": "python",
      "name": "python3"
    },
    "language_info": {
      "codemirror_mode": {
        "name": "ipython",
        "version": 3
      },
      "file_extension": ".py",
      "mimetype": "text/x-python",
      "name": "python",
      "nbconvert_exporter": "python",
      "pygments_lexer": "ipython3",
      "version": "3.9.12"
    },
    "colab": {
      "provenance": []
    }
  },
  "nbformat": 4,
  "nbformat_minor": 5
}